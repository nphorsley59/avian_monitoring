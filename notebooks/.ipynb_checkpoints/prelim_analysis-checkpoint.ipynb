{
 "cells": [
  {
   "cell_type": "code",
   "execution_count": 75,
   "id": "f2afb8ca",
   "metadata": {},
   "outputs": [],
   "source": [
    "# Set project directory as sys path\n",
    "import os\n",
    "import sys\n",
    "parent_dir = os.getcwd()\n",
    "while not os.path.isfile(os.path.join(parent_dir, 'config.py')):\n",
    "    parent_dir = os.path.dirname(parent_dir)\n",
    "sys.path.append(parent_dir)\n",
    "\n",
    "# Library Imports\n",
    "import matplotlib.pyplot as plt\n",
    "import pandas as pd\n",
    "import seaborn as sns\n",
    "\n",
    "# Local Imports\n",
    "from app.adapters.storage import get_storage\n",
    "\n",
    "# Notebook settings\n",
    "sns.set_style(\"whitegrid\")"
   ]
  },
  {
   "cell_type": "code",
   "execution_count": 47,
   "id": "a647f92c",
   "metadata": {},
   "outputs": [
    {
     "name": "stderr",
     "output_type": "stream",
     "text": [
      "2022-03-19 19:00:06 [MAIN] [INFO] [CONNECT] Connecting to local directory...\n",
      "2022-03-19 19:00:06 [MAIN] [INFO] [READ] data/transformed/point_counts.csv\n"
     ]
    }
   ],
   "source": [
    "df = get_storage().read_file('data/transformed/point_counts.csv')"
   ]
  },
  {
   "cell_type": "code",
   "execution_count": 48,
   "id": "1134f6cb",
   "metadata": {},
   "outputs": [
    {
     "data": {
      "text/html": [
       "<div>\n",
       "<style scoped>\n",
       "    .dataframe tbody tr th:only-of-type {\n",
       "        vertical-align: middle;\n",
       "    }\n",
       "\n",
       "    .dataframe tbody tr th {\n",
       "        vertical-align: top;\n",
       "    }\n",
       "\n",
       "    .dataframe thead th {\n",
       "        text-align: right;\n",
       "    }\n",
       "</style>\n",
       "<table border=\"1\" class=\"dataframe\">\n",
       "  <thead>\n",
       "    <tr style=\"text-align: right;\">\n",
       "      <th></th>\n",
       "      <th>observer_id</th>\n",
       "      <th>observer</th>\n",
       "      <th>site_id</th>\n",
       "      <th>site</th>\n",
       "      <th>sampling_period</th>\n",
       "      <th>date</th>\n",
       "      <th>start_time</th>\n",
       "      <th>point</th>\n",
       "      <th>minute</th>\n",
       "      <th>species_code</th>\n",
       "      <th>species</th>\n",
       "      <th>distance</th>\n",
       "      <th>how</th>\n",
       "      <th>visual</th>\n",
       "      <th>sex</th>\n",
       "      <th>migrating</th>\n",
       "      <th>cluster_size</th>\n",
       "      <th>cluster_code</th>\n",
       "      <th>notes</th>\n",
       "    </tr>\n",
       "  </thead>\n",
       "  <tbody>\n",
       "    <tr>\n",
       "      <th>0</th>\n",
       "      <td>CKD</td>\n",
       "      <td>Colin Dobson</td>\n",
       "      <td>CC</td>\n",
       "      <td>Cow Creek Ranch</td>\n",
       "      <td>Spring 2021</td>\n",
       "      <td>2021-04-19</td>\n",
       "      <td>24060.0</td>\n",
       "      <td>1.0</td>\n",
       "      <td>1.0</td>\n",
       "      <td>HOSP</td>\n",
       "      <td>House Sparrow</td>\n",
       "      <td>75.0</td>\n",
       "      <td>Visual</td>\n",
       "      <td>True</td>\n",
       "      <td>Unknown</td>\n",
       "      <td>False</td>\n",
       "      <td>6.0</td>\n",
       "      <td>NaN</td>\n",
       "      <td>NaN</td>\n",
       "    </tr>\n",
       "  </tbody>\n",
       "</table>\n",
       "</div>"
      ],
      "text/plain": [
       "  observer_id      observer site_id             site sampling_period        date  start_time  point  minute species_code        species  distance     how  visual      sex  migrating  cluster_size cluster_code notes\n",
       "0         CKD  Colin Dobson      CC  Cow Creek Ranch     Spring 2021  2021-04-19     24060.0    1.0     1.0         HOSP  House Sparrow      75.0  Visual    True  Unknown      False           6.0          NaN   NaN"
      ]
     },
     "execution_count": 48,
     "metadata": {},
     "output_type": "execute_result"
    }
   ],
   "source": [
    "df.head(1)"
   ]
  },
  {
   "cell_type": "code",
   "execution_count": 87,
   "id": "2f7f757b",
   "metadata": {
    "scrolled": false
   },
   "outputs": [
    {
     "data": {
      "image/png": "[encoded data removed]",
      "text/plain": [
       "<Figure size 864x432 with 1 Axes>"
      ]
     },
     "metadata": {},
     "output_type": "display_data"
    }
   ],
   "source": [
    "# Most common species, by site\n",
    "counts = df.groupby(['species', 'site'])['species'].count() \\\n",
    "    .reset_index(name='count') \\\n",
    "    .sort_values(by=['site', 'count'], ascending=[True, False])\n",
    "most_common = counts.groupby('site').head(5)\n",
    "\n",
    "# Plot\n",
    "fig, ax = plt.subplots(figsize=[12, 6])\n",
    "sns.barplot(x='count', y='site', hue='species', data=most_common, palette='terrain')\n",
    "ax.set(xlabel='', ylabel='', title='Most Common Species by Site')\n",
    "plt.legend(loc='right')\n",
    "sns.despine(bottom=True)"
   ]
  },
  {
   "cell_type": "code",
   "execution_count": null,
   "id": "c4abe84c",
   "metadata": {},
   "outputs": [],
   "source": []
  }
 ],
 "metadata": {
  "kernelspec": {
   "display_name": "Python 3 (ipykernel)",
   "language": "python",
   "name": "python3"
  },
  "language_info": {
   "codemirror_mode": {
    "name": "ipython",
    "version": 3
   },
   "file_extension": ".py",
   "mimetype": "text/x-python",
   "name": "python",
   "nbconvert_exporter": "python",
   "pygments_lexer": "ipython3",
   "version": "3.10.2"
  }
 },
 "nbformat": 4,
 "nbformat_minor": 5
}
