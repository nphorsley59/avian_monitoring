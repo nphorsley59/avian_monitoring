{
 "cells": [
  {
   "cell_type": "code",
   "execution_count": 97,
   "id": "d7a5b5a4",
   "metadata": {},
   "outputs": [],
   "source": [
    "# packages\n",
    "import pandas as pd\n",
    "\n",
    "\n",
    "# functions\n",
    "def text_to_dataframe(text, col_name):\n",
    "    return pd.DataFrame(text, columns=[col_name])\n",
    "\n",
    "def remove_extra_chars(df):\n",
    "    df['species'] = df['species'].apply(lambda x: x.replace('*', '').replace('\\n', ''))\n",
    "    return df\n",
    "\n",
    "def remove_subspecies(df):\n",
    "    return df[~df['species'].str.contains('\\+')].copy()\n",
    "\n",
    "def split_text(df):\n",
    "    df['species'] = df['species'].apply(lambda x: x.split(' ')[0:-1])\n",
    "    return df\n",
    "\n",
    "def classify_naming_convention(df):\n",
    "    df['name_class'] = df['species'].apply(lambda x: len(x))\n",
    "    return df[df['name_class'] < 8]\n",
    "\n",
    "def specify_position(name_class_value, adjustment):\n",
    "    return name_class_value - adjustment\n",
    "\n",
    "def extract_fourletter_code(df):\n",
    "    df['fourletter_code'] = df.apply(lambda x: x['species'][specify_position(x['name_class'], 3)], axis=1)\n",
    "    return df\n",
    "\n",
    "def extract_english_name(df):\n",
    "    df['english_name'] = df.apply(lambda x: ' '.join(x['species'][: specify_position(x['name_class'], 3)]), axis=1)\n",
    "    return df\n",
    "\n",
    "def extract_scientific_name(df):\n",
    "    df['scientific_name'] = df['species'].apply(lambda x: ' '.join(x[-2:]))\n",
    "    return df\n",
    "\n",
    "\n",
    "# load and process species_codes.txt\n",
    "with open('C:/Users/Work/Documents/Repos/avian_monitoring/raw_data/species_codes.txt', 'r') as t:\n",
    "    text = t.readlines()\n",
    "    df = text_to_dataframe(text, 'species')\n",
    "\n",
    "bird_codes_df = (\n",
    "    df.pipe(remove_extra_chars)\n",
    "        .pipe(remove_subspecies)\n",
    "        .pipe(split_text)\n",
    "        .pipe(classify_naming_convention)\n",
    "        .pipe(extract_fourletter_code)\n",
    "        .pipe(extract_english_name)\n",
    "        .pipe(extract_scientific_name)\n",
    "        .drop(['species', 'name_class'], axis=1)\n",
    ")\n",
    "\n",
    "\n",
    "# export df\n",
    "bird_codes_df.to_csv('C:/Users/Work/Documents/Repos/avian_monitoring/species_codes.csv', index=False)"
   ]
  },
  {
   "cell_type": "code",
   "execution_count": null,
   "id": "d7476479",
   "metadata": {},
   "outputs": [],
   "source": [
    "# save as a json not a csv"
   ]
  }
 ],
 "metadata": {
  "kernelspec": {
   "display_name": "Python 3 (ipykernel)",
   "language": "python",
   "name": "python3"
  },
  "language_info": {
   "codemirror_mode": {
    "name": "ipython",
    "version": 3
   },
   "file_extension": ".py",
   "mimetype": "text/x-python",
   "name": "python",
   "nbconvert_exporter": "python",
   "pygments_lexer": "ipython3",
   "version": "3.9.5"
  }
 },
 "nbformat": 4,
 "nbformat_minor": 5
}
